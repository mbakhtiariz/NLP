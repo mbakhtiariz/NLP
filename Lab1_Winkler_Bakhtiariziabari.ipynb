{
 "cells": [
  {
   "cell_type": "code",
   "execution_count": 22,
   "metadata": {
    "collapsed": true
   },
   "outputs": [],
   "source": [
    "%matplotlib inline\n",
    "import matplotlib\n",
    "import numpy as np\n",
    "import matplotlib.pyplot as plt"
   ]
  },
  {
   "cell_type": "code",
   "execution_count": 23,
   "metadata": {
    "collapsed": true
   },
   "outputs": [],
   "source": [
    "from collections import Counter\n",
    "import collections"
   ]
  },
  {
   "cell_type": "markdown",
   "metadata": {},
   "source": [
    "# Lab 1: Text Corpora and Language Modelling\n",
    "\n",
    "This lab is meant to help you get familiar with some language data, and use this data to estimate N-gram language models\n",
    "\n",
    "First you will use the **Penn Treebank**, which is a collection of newspaper articles from the newspaper \n",
    "The Wall Street Journal. The idea is to examine the data and notice interesting properties. This will not take more than a few lines of code.\n",
    "\n",
    "Then you will use a corpus consisting of **TedX** talks. This you will use to estimate an **N-gram language model** for different orders of N, and use this this for some tasks.\n",
    "\n",
    "The datasets are on blackboard under course materials. Download the zip and make sure to put the files in the same directory as the notebook.\n",
    "\n",
    "### Rules\n",
    "* The lab exercises should be made in **groups of two people**.\n",
    "\n",
    "* The deadline is **Tuesday 7 nov 16:59**.\n",
    "\n",
    "* The assignment should submitted to **Blackboard** as `.ipynb`. Only **one submission per group**.\n",
    "\n",
    "* The **filename** should be `lab1_lastname1_lastname2.ipynb`, so for example `lab1_Jurafsky_Martin.ipynb`.\n",
    "\n",
    "* The notebook is graded on a scale of **0-10**. The number of points for each question is indicated in parantheses. \n",
    "\n",
    "* The questions marked **optional** are not graded; they are an additional challenge for those interested in going the extra mile. \n",
    "\n",
    "Notes on implementation:\n",
    "\n",
    "* You should **write your code and answers in this iPython Notebook** (see http://ipython.org/notebook.html for reference material). If you have problems, please contact your teaching assistant.\n",
    "\n",
    "* Use only **one cell for code** and **one cell for markdown** answers!    \n",
    "\n",
    "    * Put all code in the cell with the `# YOUR CODE HERE` comment.\n",
    "    \n",
    "    * For theoretical question, put your solution in the YOUR ANSWER HERE cell.\n",
    "    \n",
    "* Test your code and **make sure we can run your notebook**"
   ]
  },
  {
   "cell_type": "markdown",
   "metadata": {},
   "source": [
    "# 1. Penn treebank\n",
    "\n",
    "## Exercise 1.1 (40 points, 5 points per subquestion )\n",
    "\n",
    "You are provided with a corpus containing words with their Part-of-Speech tags (POS-tags for short). The format is\n",
    "**word|POS** (one sentence per line) and the file name is **sec02-22.gold.tagged**. This data is extracted from Sections 02-22 from the Penn Treebank: these sections are most commonly used for training statistical models like POS-taggers and parsers.\n",
    "\n",
    "**[Hint]** **Figure 10.1** in chapter 10 of Jurafsky and Martin (see [here](https://web.stanford.edu/~jurafsky/slp3/10.pdf)) holds a summary of the 45 POS-tags used in the Penn Treebank tagset together with their meaning and some examples. (If you are keen on learning more about the word-classes represented POS-tags and their definitions you can do a litle reading ahead for next week and already have a look at section 10.1 of the same chapter).\n",
    "\n",
    "**[Hint]** the Python library [collections](https://docs.python.org/2/library/collections.html) has an object called `Counter` which will come in handy for this exercise."
   ]
  },
  {
   "cell_type": "markdown",
   "metadata": {},
   "source": [
    " "
   ]
  },
  {
   "cell_type": "markdown",
   "metadata": {},
   "source": [
    "**(a)** How large is the corpus? (i.e. how **many tokens**). And what is the size of the **vocabulary** used in this corpus? \n",
    "\n",
    "Estimate the vocabulary size both by **lowercasing** all the words as well as by leaving the words in their **original orthography**. What is an advantage of lowercasing all the words in your corpus? What is a notable downside? **Give examples.**"
   ]
  },
  {
   "cell_type": "code",
   "execution_count": 3,
   "metadata": {
    "collapsed": true
   },
   "outputs": [],
   "source": [
    "all_tokens = []\n",
    "all_tok_with_pos = []\n",
    "all_pos = []\n",
    "pos_per_vocab = {}\n",
    "lower_tokens = Counter()\n",
    "\n",
    "with open('sec02-21.gold.tagged', 'r') as fin:  \n",
    "    \n",
    "    for line in fin:\n",
    "        token = line.split()\n",
    "        for item in token:            \n",
    "            all_tok_with_pos.append(item)\n",
    "            item_without_description, pos = item.split('|')\n",
    "            \n",
    "            all_tokens.append(item_without_description)  \n",
    "            all_pos.append(pos)\n",
    "            \n",
    "            if item_without_description in pos_per_vocab:\n",
    "                if pos in pos_per_vocab[item_without_description]:\n",
    "                    pass\n",
    "                else:\n",
    "                    pos_per_vocab[item_without_description].append(pos)\n",
    "            else:\n",
    "                pos_per_vocab[item_without_description] = [pos]\n",
    "            \n",
    "            lower_tokens[item_without_description.lower()] += 1  \n",
    "                         \n",
    "            \n",
    "token_number = len(all_tokens)   \n",
    "vocabs =collections.Counter(all_tokens)\n",
    "vocab_number = len(vocabs)\n",
    "pos_list = collections.Counter(all_pos)\n",
    "pos_number = len(pos_list)"
   ]
  },
  {
   "cell_type": "code",
   "execution_count": 4,
   "metadata": {},
   "outputs": [
    {
     "name": "stdout",
     "output_type": "stream",
     "text": [
      "All tokens:  929552\n",
      "Vocabulary size:  44210\n",
      "Vocabulary size for lowercased text:  39384\n"
     ]
    }
   ],
   "source": [
    "print(\"All tokens: \",token_number)\n",
    "print(\"Vocabulary size: \",vocab_number)\n",
    "print(\"Vocabulary size for lowercased text: \",len(lower_tokens))"
   ]
  },
  {
   "cell_type": "markdown",
   "metadata": {},
   "source": [
    "**Answer**\n",
    "\n",
    "Advantages:\n",
    "    - memory is used more efficiently due to lower vocabulary size\n",
    "Example: \"My\" and \"my\" has the same interpretation with and without lowercasing.\n",
    "\n",
    "Disadvantage:\n",
    "    - ambiguity (no differentiation between nouns and verbs)\n",
    "Example: \"set\" can be interpreted as both verb and noun.\n",
    "    "
   ]
  },
  {
   "cell_type": "markdown",
   "metadata": {},
   "source": [
    "------\n",
    "For the rest of this exercise you should use the **original orthography** of the data when answering the questions.\n",
    "\n",
    "------\n"
   ]
  },
  {
   "cell_type": "markdown",
   "metadata": {},
   "source": [
    "**(b)** Plot a graph of word frequency versus rank of a word, in this corpus. Does this corpus obey **Zipf’s law**?"
   ]
  },
  {
   "cell_type": "code",
   "execution_count": 5,
   "metadata": {
    "scrolled": true
   },
   "outputs": [
    {
     "data": {
      "image/png": "[encoded data removed]",
      "text/plain": [
       "<matplotlib.figure.Figure at 0x7f1ff6ad9390>"
      ]
     },
     "metadata": {},
     "output_type": "display_data"
    },
    {
     "data": {
      "image/png": "[encoded data removed]",
      "text/plain": [
       "<matplotlib.figure.Figure at 0x7f1ff4240ef0>"
      ]
     },
     "metadata": {},
     "output_type": "display_data"
    },
    {
     "data": {
      "image/png": "[encoded data removed]",
      "text/plain": [
       "<matplotlib.figure.Figure at 0x7f1ff6a75940>"
      ]
     },
     "metadata": {},
     "output_type": "display_data"
    }
   ],
   "source": [
    "\n",
    "reverse_sorted_vocab = [(l,k) for k,l in sorted([(j,i) for i,j in vocabs.items()], reverse=True)]\n",
    "#rank_list = [i for i in range(1, len(reverse_sorted_vocab)+1)]\n",
    "freq_list = [reverse_sorted_vocab[i][1] for i in range(len(reverse_sorted_vocab))]\n",
    "rank_list = []\n",
    "temp_rank = 1\n",
    "temp_freq = freq_list[0]\n",
    "for i in range(len(freq_list)):\n",
    "    if (freq_list[i] == temp_freq):\n",
    "        \n",
    "        rank_list.append(temp_rank)\n",
    "        #print(rank)\n",
    "    else:\n",
    "        temp_rank = i + 1\n",
    "        rank_list.append(temp_rank)\n",
    "        temp_freq = freq_list[i]\n",
    "\n",
    "        \n",
    "\n",
    "const = [freq_list[i]*rank_list[i] for i in range(len(freq_list))]\n",
    "\n",
    "plt.figure(1)\n",
    "plt.plot(rank_list,freq_list)\n",
    "plt.xlabel('rank')\n",
    "plt.ylabel('frequency')\n",
    "plt.title('Frequency versus rank')\n",
    "plt.show()\n",
    "plt.close()\n",
    "\n",
    "\n",
    "plt.figure(1)\n",
    "plt.loglog(rank_list,freq_list)\n",
    "plt.xlabel('rank log')\n",
    "plt.ylabel('frequency log')\n",
    "plt.title('log frequency versus log rank')\n",
    "plt.show()\n",
    "plt.close()\n",
    "\n",
    "x = np.log10(rank_list)\n",
    "y = np.log10(freq_list)\n",
    "m,b = np.polyfit(x, y, 1) \n",
    "\n",
    "plt.figure()\n",
    "plt.plot(x, y, x, (m+0.5)*x+b-1.6) \n",
    "plt.show() \n",
    "plt.close()"
   ]
  },
  {
   "cell_type": "code",
   "execution_count": null,
   "metadata": {},
   "outputs": [],
   "source": [
    "\n",
    "\n"
   ]
  },
  {
   "cell_type": "markdown",
   "metadata": {},
   "source": [
    "**Answer:**\n",
    "Since we can fit a line to the graph, we can see that the corpus obeys Zipf's law."
   ]
  },
  {
   "cell_type": "markdown",
   "metadata": {},
   "source": [
    "**(c)** What are the **20 most common words** in the corpus and how often do they occur? What is the 50th most common word, the 100th and the 1000th and how often do they occur?"
   ]
  },
  {
   "cell_type": "code",
   "execution_count": 6,
   "metadata": {},
   "outputs": [
    {
     "name": "stdout",
     "output_type": "stream",
     "text": [
      "20 most common words: \n",
      " [(',', 48310), ('the', 40839), ('.', 38798), ('of', 22782), ('to', 22056), ('a', 19171), ('and', 15906), ('in', 15085), (\"'s\", 9249), ('that', 7951), ('for', 7912), ('$', 7125), ('is', 6893), ('The', 6791), ('said', 5597), ('on', 5112), ('%', 4871), ('it', 4639), ('by', 4450), ('from', 4437)] \n",
      "\n",
      "50th most common words: \n",
      " [('had', 1755)]\n",
      "100th most common words: \n",
      " [('A', 860)]\n",
      "1000th most common words: \n",
      " [('man', 109)]\n"
     ]
    }
   ],
   "source": [
    "most_common_words = vocabs.most_common(1000)\n",
    "print(\"20 most common words:\",'\\n',most_common_words[0:20],'\\n')\n",
    "\n",
    "print(\"50th most common words:\",'\\n',most_common_words[49:50])\n",
    "print(\"100th most common words:\",'\\n',most_common_words[99:100])\n",
    "print(\"1000th most common words:\",'\\n',most_common_words[999:1000])\n"
   ]
  },
  {
   "cell_type": "markdown",
   "metadata": {},
   "source": [
    "**(d)** How many different Part-of-speech tags are present in the corpus?"
   ]
  },
  {
   "cell_type": "code",
   "execution_count": 7,
   "metadata": {
    "scrolled": true
   },
   "outputs": [
    {
     "name": "stdout",
     "output_type": "stream",
     "text": [
      "There are 48 part-of-speech tags in the corpus.\n",
      "\n"
     ]
    }
   ],
   "source": [
    "print(\"There are {} part-of-speech tags in the corpus.\\n\".format(pos_number))"
   ]
  },
  {
   "cell_type": "markdown",
   "metadata": {},
   "source": [
    "**(e)** Print a list of the **10 most commonly occurring POS tags** in the data. For each of these POS tags, what are the **3 most common words** that belong to that class?"
   ]
  },
  {
   "cell_type": "code",
   "execution_count": 8,
   "metadata": {},
   "outputs": [
    {
     "name": "stdout",
     "output_type": "stream",
     "text": [
      "NN\n",
      "[('%', 4866), ('company', 2457), ('year', 2220)]\n",
      "IN\n",
      "[('of', 22778), ('in', 14852), ('for', 7907)]\n",
      "NNP\n",
      "[('Mr.', 4147), ('U.S.', 1577), ('Corp.', 1186)]\n",
      "DT\n",
      "[('the', 40831), ('a', 19151), ('The', 6753)]\n",
      "JJ\n",
      "[('new', 1396), ('other', 1298), ('last', 990)]\n",
      "NNS\n",
      "[('years', 1164), ('shares', 1128), ('sales', 939)]\n",
      ",\n",
      "[(',', 48310), ('an', 1), ('2', 1)]\n",
      ".\n",
      "[('.', 38798), ('?', 392), ('!', 62)]\n",
      "CD\n",
      "[('million', 4355), ('billion', 1780), ('one', 1203)]\n",
      "RB\n",
      "[(\"n't\", 3211), ('also', 1420), ('not', 1287)]\n"
     ]
    }
   ],
   "source": [
    "most_common_words = pos_list.most_common(10)\n",
    "\n",
    "for i in range(10):\n",
    "    print(most_common_words[i][0])\n",
    "    indices = np.where(np.array(all_pos) == most_common_words[i][0])[0]\n",
    "    sub_tokens = [all_tokens[indices[x]] for x in range(len(indices))]\n",
    "    sub_tokens_freq =collections.Counter(sub_tokens)\n",
    "    most_common_sub_token = sub_tokens_freq.most_common(3)\n",
    "    print(most_common_sub_token)\n"
   ]
  },
  {
   "cell_type": "markdown",
   "metadata": {},
   "source": [
    "**(f)** A single word may have several POS-tags. For example, *record* can be a both a **noun** *(buy a record)* or a **verb** *(record a lecture)*. This make POS-tags extremely useful for **disambiguation**.\n",
    "\n",
    "What percentage of the words in the vocabulary is **ambiguous**? (i.e. have more than one POS tag?) What are the 10 most frequent combinations of POS tags in the case of ambitguity? Which words are **most ambiguous**? Give some of them."
   ]
  },
  {
   "cell_type": "code",
   "execution_count": 9,
   "metadata": {
    "collapsed": true,
    "scrolled": true
   },
   "outputs": [],
   "source": [
    "#--------------- dictionary of ambiguous vocabulary ----------------\n",
    "ambig_vocab = {}\n",
    "ambig_value_per_word = {}\n",
    "\n",
    "for item in pos_per_vocab:\n",
    "    if len(pos_per_vocab[item]) > 1:\n",
    "        ambig_vocab[item] = pos_per_vocab[item]\n",
    "        ambig_value_per_word[item] = len(pos_per_vocab[item])\n",
    "        \n",
    "ambig_pos_redundant = sum(ambig_vocab.values(),[])"
   ]
  },
  {
   "cell_type": "code",
   "execution_count": 10,
   "metadata": {
    "collapsed": true
   },
   "outputs": [],
   "source": [
    "copy_pos_per_vocab = ambig_vocab.copy()\n",
    "find_combination = {}\n",
    "\n",
    "for item in copy_pos_per_vocab:\n",
    "    copy_pos_per_vocab[item] = sorted(copy_pos_per_vocab[item])\n",
    "    if(str(copy_pos_per_vocab[item]) in find_combination):\n",
    "        find_combination[str(copy_pos_per_vocab[item])] += 1\n",
    "    else:\n",
    "        find_combination[str(copy_pos_per_vocab[item])] = 1\n"
   ]
  },
  {
   "cell_type": "code",
   "execution_count": 11,
   "metadata": {},
   "outputs": [
    {
     "name": "stdout",
     "output_type": "stream",
     "text": [
      "Percentage of the ambiguous words in the vocabulary: \n",
      " 13.47 % \n",
      "\n",
      " 10 most frequent combinations of POS tags in the case of ambitguity: \n",
      " [(\"['VBD', 'VBN']\", 772), (\"['JJ', 'NN']\", 662), (\"['NN', 'NNP']\", 549), (\"['VB', 'VBP']\", 375), (\"['NNS', 'VBZ']\", 355), (\"['NN', 'VB']\", 351), (\"['NN', 'VBG']\", 315), (\"['JJ', 'VBD', 'VBN']\", 237), (\"['NN', 'VB', 'VBP']\", 233), (\"['JJ', 'NNP']\", 218)] \n",
      "\n",
      "Most ambiguous words:\n",
      "[('set', 7), ('many', 7), ('open', 7), ('down', 7), ('in', 6), ('that', 6), ('own', 6), ('cut', 6), ('point', 6), ('left', 6), ('free', 6), ('hurt', 6), ('put', 6), ('back', 6), ('bet', 6), (\"'s\", 5), ('about', 5), ('last', 5), ('a', 5), ('will', 5), ('past', 5), ('less', 5), ('out', 5), ('say', 5), ('have', 5), ('up', 5), ('plan', 5), ('half', 5), ('work', 5), ('like', 5)]\n"
     ]
    }
   ],
   "source": [
    "most_common_ambig_pos = collections.Counter(ambig_pos_redundant).most_common(10)\n",
    "\n",
    "ambig_prob = float(len(ambig_vocab))/vocab_number\n",
    "most_common_combination_pos = collections.Counter(find_combination).most_common(10)\n",
    "most_ambig_words = Counter(ambig_value_per_word).most_common(30)\n",
    "\n",
    "print(\"Percentage of the ambiguous words in the vocabulary:\",'\\n',round(ambig_prob*100, 2),\"%\",'\\n')\n",
    "print(\" 10 most frequent combinations of POS tags in the case of ambitguity:\",'\\n',most_common_combination_pos,'\\n')\n",
    "print(\"Most ambiguous words:\")\n",
    "print(most_ambig_words)\n"
   ]
  },
  {
   "cell_type": "markdown",
   "metadata": {},
   "source": [
    "**(g)**  Print some of these words with their multiple POS-tags. Do you **understand the ambiguity**? Use figure 10.1 mentioned above to interpret the POS-tags."
   ]
  },
  {
   "cell_type": "code",
   "execution_count": 12,
   "metadata": {},
   "outputs": [
    {
     "name": "stdout",
     "output_type": "stream",
     "text": [
      "set ['VBN', 'NN', 'VBD', 'VB', 'VBP', 'JJ', 'VBZ']\n",
      "many ['JJ', 'NN', 'RB', 'DT', 'PDT', 'VB', 'NP']\n",
      "open ['VB', 'JJ', 'RP', 'RB', 'VBP', 'NN', 'VBZ']\n",
      "down ['RB', 'RP', 'IN', 'JJ', 'RBR', 'VBP', 'NN']\n",
      "in ['IN', 'RP', 'RB', 'CC', 'FW', 'RBR']\n",
      "that ['IN', 'WDT', 'DT', 'RB', 'VBP', 'NN']\n",
      "own ['JJ', 'VB', 'VBP', 'NN', 'VBZ', 'VBN']\n",
      "cut ['VB', 'VBD', 'NN', 'VBN', 'VBP', 'JJ']\n",
      "point ['NN', 'VB', 'VBP', 'VBZ', 'JJ', 'VBN']\n",
      "left ['VBD', 'VBN', 'JJ', 'RB', 'NN', 'VB']\n",
      "free ['JJ', 'RB', 'NN', 'VB', 'VBP', 'VBN']\n",
      "hurt ['VB', 'VBN', 'VBD', 'VBP', 'JJ', 'NN']\n",
      "put ['VB', 'VBN', 'VBD', 'VBP', 'NN', 'JJ']\n",
      "back ['RB', 'VB', 'RP', 'JJ', 'NN', 'VBP']\n",
      "bet ['RB', 'VBD', 'NN', 'VB', 'VBN', 'VBP']\n",
      "'s ['POS', 'VBZ', 'PRP', 'NNP', 'NNS']\n",
      "about ['IN', 'RB', 'RP', 'RBR', 'VBG']\n",
      "last ['JJ', 'VB', 'NN', 'RB', 'VBP']\n",
      "a ['DT', 'FW', 'SYM', 'NNP', 'LS']\n",
      "will ['MD', 'NN', 'VBN', 'VBZ', 'VB']\n",
      "past ['JJ', 'NN', 'RB', 'IN', 'VBN']\n",
      "less ['RBR', 'JJR', 'CC', 'JJS', 'RB']\n",
      "out ['RB', 'RP', 'IN', 'NN', 'JJ']\n",
      "say ['VBP', 'VB', 'UH', 'NN', 'VBZ']\n",
      "have ['VB', 'VBP', 'VBZ', 'JJ', 'VBD']\n",
      "up ['RP', 'RB', 'IN', 'JJ', 'VBZ']\n",
      "plan ['NN', 'VB', 'VBP', 'VBZ', 'VBN']\n",
      "half ['JJ', 'NN', 'PDT', 'RB', 'DT']\n",
      "work ['VB', 'NN', 'VBP', 'VBZ', 'VBN']\n",
      "like ['IN', 'VB', 'JJ', 'NN', 'VBP']\n"
     ]
    }
   ],
   "source": [
    "for item in most_ambig_words:\n",
    "    print(item[0], ambig_vocab[item[0]])"
   ]
  },
  {
   "cell_type": "markdown",
   "metadata": {},
   "source": [
    "**Answer:** \n",
    "The multiple verb POS-tags (['VBN', 'NN', 'VBD', 'VB', 'VBP', 'JJ', 'VBZ']) arise due to the fact that a word can be interpreted as an irregular verb. Thus, when conjugating the verb to express a different tense, its form will not change which makes it highly ambiguous.\n",
    "\n",
    "Moreover, it can also be interpreted as a noun or an adjective which is indicated by the POS-tags NN and JJ, respectively.\n",
    "\n",
    "RB adverb\n",
    "RP: particle\n",
    "RBR: adverb comparative\n",
    "PDT: predeterminer"
   ]
  },
  {
   "cell_type": "markdown",
   "metadata": {},
   "source": [
    "**(h)** Ambiguous words do not account for a great percentage of the vocabulary. Yet they are among the most commonly occuring words of the English language. What **percentage of the dataset is ambiguous**?"
   ]
  },
  {
   "cell_type": "code",
   "execution_count": 13,
   "metadata": {},
   "outputs": [
    {
     "name": "stdout",
     "output_type": "stream",
     "text": [
      "percentage of ambiguous words in the dataset: 55.08 %\n"
     ]
    }
   ],
   "source": [
    "counter = 0\n",
    "for item in all_tokens:\n",
    "    if item in ambig_vocab.keys():\n",
    "        counter += 1\n",
    "ambig_prob_dataset = float(counter)/len(all_tokens)\n",
    "print(\"percentage of ambiguous words in the dataset:\",round(ambig_prob_dataset*100,2),\"%\")"
   ]
  },
  {
   "cell_type": "markdown",
   "metadata": {},
   "source": [
    "## Exercise 1.2 (10 points, 5 per subquestion)"
   ]
  },
  {
   "cell_type": "markdown",
   "metadata": {},
   "source": [
    "You are also provided with another file called **sec00.gold.tagged**. \n",
    "Section 00 of the Penn Treebank is typically used as development data."
   ]
  },
  {
   "cell_type": "markdown",
   "metadata": {},
   "source": [
    "**(a)** How many **unseen words** are present in the development data (i.e., words that have not occurred in the training data)?"
   ]
  },
  {
   "cell_type": "code",
   "execution_count": 14,
   "metadata": {
    "collapsed": true,
    "scrolled": false
   },
   "outputs": [],
   "source": [
    "with open('sec00.gold.tagged', 'r') as fdev:\n",
    "    dev_tokens = []\n",
    "    dev_tok_with_pos = []\n",
    "    dev_pos = []\n",
    "    dev_pos_per_vocab = {}\n",
    "    \n",
    "    for line in fdev:\n",
    "        token = line.split()\n",
    "        for item in token:\n",
    "            \n",
    "            dev_tok_with_pos.append(item)\n",
    "            item_without_description, pos = item.split('|')\n",
    "            \n",
    "            dev_tokens.append(item_without_description)  \n",
    "            dev_pos.append(pos)\n",
    "            \n",
    "            if item_without_description in dev_pos_per_vocab:\n",
    "                if pos in dev_pos_per_vocab[item_without_description]:\n",
    "                    pass\n",
    "                else:\n",
    "                    dev_pos_per_vocab[item_without_description].append(pos)\n",
    "            else:\n",
    "                dev_pos_per_vocab[item_without_description] = [pos]\n",
    "                \n",
    "                \n",
    "dev_token_number = len(dev_tokens)   "
   ]
  },
  {
   "cell_type": "code",
   "execution_count": 15,
   "metadata": {},
   "outputs": [
    {
     "name": "stdout",
     "output_type": "stream",
     "text": [
      "1728\n"
     ]
    }
   ],
   "source": [
    "unseen = {}\n",
    "unseen_count = 0\n",
    "for item in dev_tokens:\n",
    "    if item in vocabs:\n",
    "        pass\n",
    "    else:\n",
    "        unseen_count += 1\n",
    "        unseen[item] = dev_pos_per_vocab[item]\n",
    "        \n",
    "print(unseen_count)"
   ]
  },
  {
   "cell_type": "markdown",
   "metadata": {},
   "source": [
    "**(b)** What are the three **POS tag categories** that the most **unseen words** belong to?"
   ]
  },
  {
   "cell_type": "code",
   "execution_count": 16,
   "metadata": {
    "scrolled": true
   },
   "outputs": [
    {
     "name": "stdout",
     "output_type": "stream",
     "text": [
      "[('NNP', 489), ('JJ', 236), ('NN', 175)]\n"
     ]
    }
   ],
   "source": [
    "pos_of_unseen= collections.Counter(sum(unseen.values(),[]))\n",
    "print(pos_of_unseen.most_common(3))"
   ]
  },
  {
   "cell_type": "markdown",
   "metadata": {},
   "source": [
    "# 2. Language Models\n",
    "\n",
    "This part of the lab will be covered in the Wednesday lecture. If you have prior exposure to NLP, go ahead and finish this part! If you don't, start anyway, and this part will be clear after the lecture. \n",
    "\n",
    "Reference **chapter 4** of J&M *Language Modeling with N-Grams*. \n",
    "\n",
    "----------\n",
    "\n",
    "Models that assign **probabilities** to **sequences of words** are called language **language\n",
    "modelels** or **LMs**. The simplest model that assigns probabilities to sentences and sequences of words is the **N-gram** model.\n",
    "\n",
    "Recall that an *N*-gram language model uses **conditional probabilities** of the form\n",
    "    \n",
    "$$P(w_k \\mid w_{k-N+1} \\dots w_{k-1})$$\n",
    "\n",
    "to **approximate** the full **joint probability**\n",
    "\n",
    "$$P(w_1 \\dots w_n)$$\n",
    "\n",
    "of a sequence of words $w_1 \\dots w_n$.\n",
    "\n",
    "The easiest way of obtaining estimates for the probabilities $P(w_k \\mid w_{k-N+1} \\dots w_{k-1})$ is to use the **maximum likelihood estimate** or **MLE**, a widely used statistical estimation method ([read more]((https://en.wikipedia.org/wiki/Maximum_likelihood_estimation)). You count and normalize:\n",
    "\n",
    "$$P_{MLE}(w_k \\mid w_{k-N+1} \\dots w_{k-1}) = \\frac{C(w_{k-N+1} \\dots w_{k-1} w_k)}{C(w_{k-N+1} \\dots w_{k-1})}.$$\n",
    "\n",
    "\n",
    "## Exercise 2.1 (25 points)\n",
    "\n",
    "**(a) ** Complete the function `train_ngram` so that you can train a count-based $N$-gram language model on the data found in `data/ted-train.txt` and train this for $N=2,3,4$. **15 points**\n",
    "\n",
    "**(b) ** Extend the function above so that it accepts a parameter `k` for optional add-$k$ smoothing. **10 points**\n",
    "\n",
    "**[Datastructure hint]** If you store the smoothed language in a naive manner (that is, to store *all* the numbers separately) your datastructure will get huge! If $V$ is the vocabulary then the smoothed bigram model assigns probabilities to $|V|^2$ entries. If $|V|$ is around 80k, the naive way requires you to store more than 64 billion floats. Yet almost all of these are actually just $P(w_n|w_{n-1}) = \\frac{k}{N + k|V|}$, with $k$ the value with which you smooth and $N=C(w_{n-1})$. Think about how you use this fact to make your model work in practice."
   ]
  },
  {
   "cell_type": "markdown",
   "metadata": {},
   "source": [
    "**[Python hint]** The `collections` library has another useful datastructure: the `defaultdict`. Some example uses:"
   ]
  },
  {
   "cell_type": "code",
   "execution_count": 24,
   "metadata": {},
   "outputs": [
    {
     "data": {
      "text/plain": [
       "defaultdict(float, {'new key': 0.0})"
      ]
     },
     "execution_count": 24,
     "metadata": {},
     "output_type": "execute_result"
    }
   ],
   "source": [
    "from collections import defaultdict\n",
    "\n",
    "d = defaultdict(float)\n",
    "d[\"new key\"]\n",
    "d"
   ]
  },
  {
   "cell_type": "markdown",
   "metadata": {},
   "source": [
    "Compare that to an ordinary dictionary:"
   ]
  },
  {
   "cell_type": "code",
   "execution_count": null,
   "metadata": {},
   "outputs": [],
   "source": [
    "d = defaultdict(lambda: defaultdict(float))\n",
    "d[\"new key\"]\n",
    "d"
   ]
  },
  {
   "cell_type": "markdown",
   "metadata": {},
   "source": [
    "Clever use of a `defaultdict` can be the solution to the problem of data-storing in a smoothing $N$-gram pointed out above:\n",
    "    \n",
    "    ngram = defaultdict(lambda: k/(N+kV), ngram)"
   ]
  },
  {
   "cell_type": "markdown",
   "metadata": {},
   "source": [
    "The following function is given:"
   ]
  },
  {
   "cell_type": "code",
   "execution_count": 25,
   "metadata": {
    "collapsed": true
   },
   "outputs": [],
   "source": [
    "train_file = \"ted-train.txt\"\n",
    "#train_file = \"ted-train.txt\"\n",
    "\n",
    "def read(fname, max_lines=np.inf):\n",
    "    \"\"\"\n",
    "    Reads in the data in fname and returns it as\n",
    "    one long list of words. Also returns a vocabulary in\n",
    "    the form of a word2index and index2word dictionary.\n",
    "    \"\"\"\n",
    "    data = []\n",
    "    # w2i will automatically keep a counter to asign to new words\n",
    "    w2i = defaultdict(lambda: len(w2i))\n",
    "    i2w = dict()\n",
    "    start = \"<s>\"\n",
    "    end = \"</s>\"\n",
    "    \n",
    "    with open(fname, \"r\") as fh:\n",
    "        for k, line in enumerate(fh):\n",
    "            if k > max_lines:\n",
    "                break\n",
    "            words = line.strip().split()\n",
    "            # assign an index to each word\n",
    "            for w in words:\n",
    "                i2w[w2i[w]] = w # trick\n",
    "            \n",
    "            sent = [start] + words + [end]\n",
    "            data.append(sent)\n",
    "\n",
    "    return data, w2i, i2w"
   ]
  },
  {
   "cell_type": "code",
   "execution_count": 26,
   "metadata": {
    "collapsed": true
   },
   "outputs": [],
   "source": [
    "def train_ngram(data, N, k=0):\n",
    "    \"\"\"\n",
    "    Trains an n-gram language model with optional add-k smoothing\n",
    "    and additionaly returns the unigram model\n",
    "    \n",
    "    :param data: text-data as returned by read\n",
    "    :param N: (N>1) the order of the ngram e.g. N=2 gives a bigram\n",
    "    :param k: optional add-k smoothing\n",
    "    :returns: ngram and unigram\n",
    "    \"\"\"\n",
    "    ngram = defaultdict(Counter) # ngram[history][word] = #(history,word)\n",
    "    unpacked_data = [word for sent in data for word in sent]#sum(data,[])\n",
    "    unigram = defaultdict(float, Counter(unpacked_data)) # default prob is 0.0           \n",
    "    \n",
    "    total_n = len(unpacked_data)\n",
    "    voc_collection =collections.Counter(unpacked_data)\n",
    "    \n",
    "    for item in voc_collection:\n",
    "        unigram[item] = 1.0*(voc_collection[item])/total_n\n",
    "    \n",
    "    counter = Counter()\n",
    "    for idx, item in enumerate(unpacked_data[:-N+1]):\n",
    "        key = []\n",
    "        for n in range(N-1):\n",
    "            key.append(unpacked_data[idx+n])\n",
    "        counter[tuple(key)] += 1\n",
    "    \n",
    "    temp = k*len(voc_collection)\n",
    "    for idx, item in enumerate(unpacked_data[N-1:]):\n",
    "        key = []\n",
    "        for n in range(1, N):\n",
    "            key.append(unpacked_data[idx-N+n+N-1])\n",
    "        ngram[tuple(key)][item] += 1.0/(counter[tuple(key)]+temp)\n",
    "        \n",
    "    for item in ngram:\n",
    "        for item2 in ngram[item]:\n",
    "            ngram[item][item2] += float(k)/(counter[tuple(key)]+temp)\n",
    "\n",
    "    return ngram, unigram"
   ]
  },
  {
   "cell_type": "code",
   "execution_count": 27,
   "metadata": {
    "collapsed": true
   },
   "outputs": [],
   "source": [
    "data, w2i, i2w = read(train_file)"
   ]
  },
  {
   "cell_type": "code",
   "execution_count": 28,
   "metadata": {
    "collapsed": true
   },
   "outputs": [],
   "source": [
    "bigram, unigram = train_ngram(data, N=2, k=0)"
   ]
  },
  {
   "cell_type": "code",
   "execution_count": 29,
   "metadata": {
    "collapsed": true
   },
   "outputs": [],
   "source": [
    "trigram, unigram = train_ngram(data, N=3, k=0)"
   ]
  },
  {
   "cell_type": "code",
   "execution_count": 30,
   "metadata": {
    "collapsed": true
   },
   "outputs": [],
   "source": [
    "fourgram, unigram = train_ngram(data, N=4, k=0)"
   ]
  },
  {
   "cell_type": "code",
   "execution_count": 31,
   "metadata": {
    "collapsed": true
   },
   "outputs": [],
   "source": [
    "bigram_smoothed, unigram_smoothed = train_ngram(data, N=2, k=1)"
   ]
  },
  {
   "cell_type": "code",
   "execution_count": 32,
   "metadata": {
    "collapsed": true
   },
   "outputs": [],
   "source": [
    "trigram_smoothed, unigram_smoothed = train_ngram(data, N=3, k=1)"
   ]
  },
  {
   "cell_type": "markdown",
   "metadata": {},
   "source": [
    "## Exercise 2.2 (5 points)\n",
    "\n",
    "You can use an *N*-gram language model to **generate text**. The higher the order *N* the better your model will be able to catch the long-range dependecies that occur in actual sentences and the better your changes are at generating sensible text. But beware: **sparsity** of language data will quickly cause your model to reproduce entire lines from your training data; in such cases only one $w_k$ was observed for the histories $w_{k-N+1}\\dots w_{k-1}$ in the entire training-set.\n",
    "\n",
    "**Complete** the function `generate_sent`. It takes a language model `lm` and an order `N` and should generate a sentence by **sampling** from the language model.\n",
    "\n",
    "**[Hint]** You can use the method of [inverse transform sampling](https://en.wikipedia.org/wiki/Inverse_transform_sampling) to generate a sample from a **categorical distribution**, $p_1\\dots p_k$ such that $p_i \\geq 0$ and $\\sum_{i=1}^k p_i = 1$, as follows:"
   ]
  },
  {
   "cell_type": "code",
   "execution_count": 33,
   "metadata": {},
   "outputs": [
    {
     "name": "stdout",
     "output_type": "stream",
     "text": [
      "2\n",
      "Counter({1: 49851, 0: 20103, 2: 20039, 3: 10007})\n"
     ]
    }
   ],
   "source": [
    "from random import random\n",
    "\n",
    "P = [0.2,0.5,0.2,0.1]\n",
    "\n",
    "def sample(P):\n",
    "    u = random() # uniformly random number between 0 and 1\n",
    "    p = 0\n",
    "    for i, p_i in enumerate(P):\n",
    "        p += p_i\n",
    "        if p > u: \n",
    "            #print(i)\n",
    "            return i # the first i s.t. p1 + ... + pi > u\n",
    "    return len(P) - 1\n",
    "        \n",
    "        \n",
    "print(sample(P))\n",
    "\n",
    "print(Counter([sample(P) for i in range(100000)])) # check to see if the law of large numbers is still true"
   ]
  },
  {
   "cell_type": "markdown",
   "metadata": {},
   "source": [
    "Inverse transform sampling in the words of Jurafsky and Martin:\n",
    "\n",
    "> Imagine all the words of the English language covering the probability space\n",
    "between 0 and 1, each word covering an interval proportional to its frequency. We\n",
    "choose a random value between 0 and 1 and print the word whose interval includes\n",
    "this chosen value.\n",
    "\n",
    "(J&M, section 4.3)"
   ]
  },
  {
   "cell_type": "code",
   "execution_count": 34,
   "metadata": {
    "collapsed": true
   },
   "outputs": [],
   "source": [
    "def choose_start_combination_words(lm):\n",
    "    start = []\n",
    "    for item in lm:\n",
    "        if item[0] == '<s>':\n",
    "            start.append(item)\n",
    "    index = np.random.randint(0,len(start))\n",
    "    return start[index]\n",
    "\n",
    "def concat_next_word(tup,wrd):\n",
    "    prev = list(tup)[1:]\n",
    "    prev.append(wrd)\n",
    "    return tuple(prev)\n",
    "\n",
    "def generate_sent(lm, N):\n",
    "    start_words = choose_start_combination_words(lm)\n",
    "\n",
    "    sentence = \"\".join(list(start_words[1:]))\n",
    "    while (True):\n",
    "        words = list(lm[start_words].keys())\n",
    "        prob = list(lm[start_words].values())\n",
    "        idx = sample(prob)\n",
    "        new_word = words[idx]\n",
    "        if new_word == \"</s>\":\n",
    "            break\n",
    "        sentence += \" \" +new_word\n",
    "        start_words = concat_next_word(start_words, new_word)\n",
    "        \n",
    "    return sentence\n",
    "    "
   ]
  },
  {
   "cell_type": "code",
   "execution_count": 35,
   "metadata": {},
   "outputs": [
    {
     "name": "stdout",
     "output_type": "stream",
     "text": [
      "forced to always work within groups .\n"
     ]
    }
   ],
   "source": [
    "auto_generated_sentence = generate_sent(trigram_smoothed, 3)\n",
    "print(auto_generated_sentence)"
   ]
  },
  {
   "cell_type": "markdown",
   "metadata": {},
   "source": [
    "### [Optional]\n",
    "\n",
    "For how many of the histories $w_{k-N+1}\\dots w_{k-1}$ is the number of continuations $w_n$ equal to **one**? Calculate the percentage of such cases for the different orders *N*.\n",
    "\n",
    "And which history has the **most possible continuations**?"
   ]
  },
  {
   "cell_type": "code",
   "execution_count": null,
   "metadata": {
    "collapsed": true
   },
   "outputs": [],
   "source": [
    "### ANSWER ###"
   ]
  },
  {
   "cell_type": "markdown",
   "metadata": {},
   "source": [
    "## Excercise 2.3 (5 points)\n",
    "\n",
    "Let $V$ denote our vocabulary. Recall that for any $w$ in $V$ `bigram[w]` defines a conditional probability $p(v|w)$ over $v$ in $V$. In the case of an **unsmoothed bigram**, $p(v|w) = 0$ for most $v\\in V$, whereas in the **smoothed bigram** smoothing took care that $p(v|w) \\geq 0$ for *all* $v$.\n",
    "\n",
    "The function `plot_bigram_dist(word, bigram, smoothbigram, k=30)` plots shows $p(v|word)$ for the `k` words $v$. One bar shows the probabilities in `bigram` and one in `smoothbigram`. \n",
    "\n",
    "**(a)** Use this function to plot the distribution for at least two words `w` and answer the questions\n",
    "* What is the effect of smoothing on the bigram distribution of frequent words? \n",
    "* What is the effect in the case of infrequent words?\n",
    "* Explain the difference between the two based on the raw counts of `w` \n",
    "\n",
    "**(b)** Now experiment with $k$ much smaller than 1 (but greater than 0!) \n",
    "* What are the effects?\n",
    "\n",
    "\n",
    "**[Hint]** Remember that add-1 smoothing turns \n",
    "$$P(w_n\\mid w_{n-1}) = \\frac{C(w_{n-1}w_{n})}{C(w_{n-1})}$$\n",
    "into\n",
    "$$P_{add-1}(w_n\\mid w_{n-1}) = \\frac{C(w_{n-1}w_{n}) + 1}{C(w_{n-1}) + |V|}.$$\n",
    "\n",
    "What happens when $C(w_{n-1})$ is relatively big (similiar in of size as $ |V| $)? And what if $C(w_{n-1})$ is small? "
   ]
  },
  {
   "cell_type": "code",
   "execution_count": 36,
   "metadata": {
    "collapsed": true
   },
   "outputs": [],
   "source": [
    "import pandas as pd\n",
    "import seaborn as sns    \n",
    "\n",
    "def plot_bigram_dist(word, bigram, smoothbigram, k=30):\n",
    "    d = bigram[word]\n",
    "    ds = smoothbigram[word]\n",
    "    \n",
    "    # sort the probabilities\n",
    "    d_sort = sorted(d.items(), reverse=True, key=lambda t: t[1])[0:k]\n",
    "    ds_sort = sorted(ds.items(), reverse=True, key=lambda t: t[1])[0:k]\n",
    "  \n",
    "    _, probs = zip(*d_sort) \n",
    "    smooth_ws, smooth_probs = zip(*ds_sort)\n",
    "    \n",
    "    # make up for the fact that in the unsmoothed case  probs is generally less than k long\n",
    "    probs = probs + (0,) * (k-len(probs)) \n",
    "    w_data = pd.DataFrame({\"w\": smooth_ws * 2,\n",
    "                           \"P(w|{})\".format(word): probs + smooth_probs,\n",
    "                           \"smoothing\": [\"unsmoothed\"]*k + [\"smoothed\"]*k})\n",
    "\n",
    "    fig, ax = plt.subplots(figsize=(10,10))\n",
    "    plt.xticks(rotation=90)\n",
    "    g = sns.barplot(ax=ax, x=\"w\", y=\"P(w|{})\".format(word), hue=\"smoothing\",\n",
    "                    data=w_data, palette=\"Blues_d\")\n"
   ]
  },
  {
   "cell_type": "code",
   "execution_count": 38,
   "metadata": {},
   "outputs": [
    {
     "data": {
      "image/png": "[encoded data removed]",
      "text/plain": [
       "<matplotlib.figure.Figure at 0x7f1ff3cd7390>"
      ]
     },
     "metadata": {},
     "output_type": "display_data"
    },
    {
     "data": {
      "image/png": "[encoded data removed]",
      "text/plain": [
       "<matplotlib.figure.Figure at 0x7f1fd1a27978>"
      ]
     },
     "metadata": {},
     "output_type": "display_data"
    }
   ],
   "source": [
    "plot_bigram_dist(tuple(['the']), bigram, bigram_smoothed, k=30)\n",
    "plot_bigram_dist(tuple(['small']), bigram, bigram_smoothed, k=30)"
   ]
  },
  {
   "cell_type": "code",
   "execution_count": 39,
   "metadata": {
    "collapsed": true
   },
   "outputs": [],
   "source": [
    "bigram_smoothed2, unigram_smoothed2 = train_ngram(data, N=2, k=.2)"
   ]
  },
  {
   "cell_type": "code",
   "execution_count": 41,
   "metadata": {},
   "outputs": [
    {
     "data": {
      "image/png": "[encoded data removed]",
      "text/plain": [
       "<matplotlib.figure.Figure at 0x7f1fd12336a0>"
      ]
     },
     "metadata": {},
     "output_type": "display_data"
    },
    {
     "data": {
      "image/png": "[encoded data removed]",
      "text/plain": [
       "<matplotlib.figure.Figure at 0x7f1fcab26940>"
      ]
     },
     "metadata": {},
     "output_type": "display_data"
    }
   ],
   "source": [
    "plot_bigram_dist(tuple(['the']), bigram, bigram_smoothed2, k=30)\n",
    "plot_bigram_dist(tuple(['small']), bigram, bigram_smoothed2, k=30)"
   ]
  },
  {
   "cell_type": "markdown",
   "metadata": {},
   "source": [
    "**Answer:**  \n",
    "* **Effect of smoothing on the bigram distribution of frequent words:**\n",
    "Generally, smoothing decreases the probability of the next word of occurring. Also it increases the probabiity mass of words which do not follow the current word immediately. \n",
    "Smoothing will have less effect on the bigram distribution of frequent words since we have already assigned some probability mass to most of the words and thus the number of words with zero probability mass is relatively low. Hence, it suffices to take a small amount from every bigram with positive probability and redistribute it over those with zero probability. Hence, the bigram distribution will look skewed to the left.\n",
    "\n",
    "* **Effect in the case of infrequent words:**\n",
    "The probability of a word occurring after an infrequent one would be zero in most cases. Thus, when we want to assign probability mass to those words, we need to reduce a lot of probabilities to have a normalized distribution. Hence, the smoothed bigram distribution looks flat.\n",
    "\n",
    "* **The difference between the two based on the raw counts of w:**\n",
    "For large w, the difference in probability between an unsmoothed and a smoothed bigram will be smaller compared to the situation where w is small. \n",
    "\n",
    "* **Effect of k  much smaller than 1 (but greater than 0!):**\n",
    "The closer k is to 0, the smaller the smoothing effect. The closer k is to 1, the larger is the smoothing effect."
   ]
  },
  {
   "cell_type": "markdown",
   "metadata": {},
   "source": [
    "\n",
    "**Recall** that if we have a sentence $w_1,\\dots,w_n$ we can write\n",
    "\n",
    "$$P(w_1\\dots w_n) = P(w_1)P(w_2|w_1) \\cdots P(w_i|w_1 \\dots w_{n-1}) \\approx P(w_1)P(w_2|w_1)\\cdots P(w_{N-1}|w_1\\dots w_{N-2})\\prod_{i=N}^{n} P(w_i|w_{i-(N-1)}\\dots w_{i-1})$$\n",
    "\n",
    "where in the last step we make an $N$-gram approximation of the full conditionals.\n",
    "\n",
    "For example, in the case of a bigram (N=2), the above expression reduces to\n",
    "\n",
    "$$P(w_1 \\dots w_n)\\approx P(w_1)\\prod_{i=2}^{n} P(w_i| w_{i-1}).$$\n",
    "\n",
    "## Exercise 2.4 (5 points)\n",
    "\n",
    "The following sentences are taken from the **training data**. Use your **unsmoothed unigram**, **bigram**, and **trigram** language model to estimate their **probabilities**:\n",
    "\n",
    "    1. Every day was about creating something new .\n",
    "    2. In this machine , a beam of protons and anti-protons are accelerated to near the speed of light and brought \n",
    "       together in a collision , producing a burst of pure energy .\n",
    "\n",
    "**Repeat** this with the **smoothed (add-1)** versions of the N-grams. What is the effect of smoothing on the probabilities?\n",
    "\n"
   ]
  },
  {
   "cell_type": "code",
   "execution_count": 43,
   "metadata": {},
   "outputs": [
    {
     "name": "stdout",
     "output_type": "stream",
     "text": [
      "Unsmoothed Probability of the first sentence is: 5.886621677857048e-13 \n",
      "\n",
      "Smoothed Probability of the first sentence is: 7.238102197929912e-37 \n",
      "\n",
      "Unsmoothed Probability of the second sentence is: 1.6934912147549186e-32 \n",
      "\n",
      "Smoothed Probability of the second sentence is: 6.708466998183451e-138 \n",
      "\n"
     ]
    }
   ],
   "source": [
    "unpacked_data = [word for sent in data for word in sent]\n",
    "voc_collection =collections.Counter(unpacked_data)\n",
    "def find_probability(sentence,uni,bi,tri, k=0):\n",
    "\n",
    "    p_sent_tok = []\n",
    "    \n",
    "    p_sent_tok.append(uni[sent_tok[0]])\n",
    "    p_sent_tok.append(bi[tuple([sent_tok[0]])][sent_tok[1]])\n",
    "\n",
    "    temp = k*len(voc_collection)\n",
    "    counter = Counter()\n",
    "    for i in range(len(sent_tok)-2):\n",
    "        pair = tuple([sent_tok[i],sent_tok[i+1]])\n",
    "        p_word = tri[pair][sent_tok[i+2]]\n",
    "        if p_word == 0:\n",
    "            if(k != 0):\n",
    "                p_word = float(k)/(counter[pair]+temp)\n",
    "        p_sent_tok.append(p_word)\n",
    "\n",
    "    p_sent = 1\n",
    "    for i in range(len(p_sent_tok)):\n",
    "        p_sent *= p_sent_tok[i]\n",
    "    return p_sent, p_sent_tok\n",
    "\n",
    "sentence = '<s> Every day was about creating something new . </s>'\n",
    "sent_tok = sentence.split()\n",
    "p_sent1, p_sent_tok1 = find_probability(sent_tok,unigram,bigram,trigram,k=0)\n",
    "print(\"Unsmoothed Probability of the first sentence is:\", p_sent1,'\\n')\n",
    "p_sent2, p_sent_tok2 = find_probability(sentence,unigram_smoothed,bigram_smoothed,trigram_smoothed,k=1)\n",
    "print(\"Smoothed Probability of the first sentence is:\", p_sent2,'\\n')\n",
    "normal_PP1 = (p_sent1)**((-1.0)/len(sent_tok))\n",
    "smoothed_PP1 = (p_sent2)**((-1.0)/len(sent_tok))\n",
    "\n",
    "sentence = \"<s> In this machine , a beam of protons and anti-protons are accelerated to near the speed of light and brought together in a collision , producing a burst of pure energy . </s>\"\n",
    "sent_tok = sentence.split()\n",
    "p_sent3, p_sent_tok3 = find_probability(sent_tok,unigram,bigram,trigram,k=0)\n",
    "print(\"Unsmoothed Probability of the second sentence is:\",p_sent3,'\\n')\n",
    "p_sent4, p_sent_tok4 = find_probability(sent_tok,unigram_smoothed,bigram_smoothed,trigram_smoothed,k=1)\n",
    "print(\"Smoothed Probability of the second sentence is:\", p_sent4,'\\n')\n",
    "normal_PP2 = (p_sent3)**((-1.0)/len(sent_tok))\n",
    "smoothed_PP2 = (p_sent4)**((-1.0)/len(sent_tok))\n"
   ]
  },
  {
   "cell_type": "markdown",
   "metadata": {},
   "source": [
    "** Answer **\n",
    "The estimated probabilities for the smoothed language models for both sentences is lower than the unsmoothed estimate."
   ]
  },
  {
   "cell_type": "markdown",
   "metadata": {},
   "source": [
    "## Exercise 2.5 (5 points)\n",
    "\n",
    "The above sentences were taken from the training set, hence they will all have probability greater than 0. The big challenge for our language model are of course with sentence that contain unseen N-grams: if such an N-gram occurs our model immediately assigns the sentence probability zero.\n",
    "\n",
    "The following three senteces are taken from the **test set** availlable in the file **ted-test.txt**. What probabilities do your smoothed and unsmoothed language models asign in this case?\n",
    "\n",
    "    1. Because these robots are really safe .\n",
    "    2. We have sheer nothingness on one side , and we have this vision of a reality that encompasses every \n",
    "       conceivable world at the other extreme : the fullest possible reality , nothingness , the simplest possible \n",
    "       reality ."
   ]
  },
  {
   "cell_type": "code",
   "execution_count": 44,
   "metadata": {},
   "outputs": [
    {
     "name": "stdout",
     "output_type": "stream",
     "text": [
      "Unsmoothed Probability of the first sentence is: 0.0 \n",
      "\n",
      "Smoothed Probability of the first sentence is: 1.1723792303919763e-34 \n",
      "\n",
      "Unsoomthed Probability of the second sentence is: 0.0 \n",
      "\n",
      "Smoothed Probability of the second sentence is: 5.662890541207814e-162 \n",
      "\n"
     ]
    }
   ],
   "source": [
    "sentence = '<s> Because these robots are really safe . </s>'\n",
    "sent_tok = sentence.split()\n",
    "p_sent, p_sent_tok = find_probability(sent_tok,unigram,bigram,trigram,k=0)\n",
    "print(\"Unsmoothed Probability of the first sentence is:\", p_sent,'\\n')\n",
    "\n",
    "p_sent, p_sent_tok = find_probability(sent_tok,unigram_smoothed,bigram_smoothed,trigram_smoothed,k=1)\n",
    "print(\"Smoothed Probability of the first sentence is:\", p_sent,'\\n')\n",
    "\n",
    "\n",
    "sentence = \"<s> We have sheer nothingness on one side , and we have this vision of a reality that encompasses every conceivable world at the other extreme : the fullest possible reality , nothingness , the simplest possible reality . </s>\"\n",
    "sent_tok = sentence.split()\n",
    "p_sent, p_sent_tok = find_probability(sent_tok,unigram,bigram,trigram,k=0)\n",
    "print(\"Unsoomthed Probability of the second sentence is:\",p_sent,'\\n')\n",
    "p_sent, p_sent_tok = find_probability(sent_tok,unigram_smoothed,bigram_smoothed,trigram_smoothed,k=1)\n",
    "print(\"Smoothed Probability of the second sentence is:\", p_sent,'\\n')"
   ]
  },
  {
   "cell_type": "markdown",
   "metadata": {},
   "source": [
    "**Answer:**\n",
    "* Unsmoothed Probability of the first sentence is: 0.0 \n",
    "\n",
    "* Smoothed Probability of the first sentence is: 1.1723792303919763e-34 \n",
    "\n",
    "* Unsoomthed Probability of the second sentence is: 0.0 \n",
    "\n",
    "* Smoothed Probability of the second sentence is: 5.662890541207814e-162"
   ]
  },
  {
   "cell_type": "markdown",
   "metadata": {},
   "source": [
    "### [Optional]\n",
    "\n",
    "**Optional** What percentage of the sentences in the test set get assigned probability 0 under your smoothed and unsmoothed language models? "
   ]
  },
  {
   "cell_type": "code",
   "execution_count": null,
   "metadata": {
    "collapsed": true
   },
   "outputs": [],
   "source": [
    "### ANSWER HERE ###"
   ]
  },
  {
   "cell_type": "markdown",
   "metadata": {},
   "source": [
    "## Exercise 2.6 (5 points)\n",
    "\n",
    "**Perplexity** is very frequently used **metric** for evaluating probabilistic models such as language models. The perplexity (sometimes called **PP** for short) of a language model on a sentence is the **inverse probability** of the sentence, **normalized** by the number of words:\n",
    "\n",
    "$$PP(w_1 \\dots w_n) = P(w_1\\dots w_n)^{-\\frac{1}{n}}.$$\n",
    "\n",
    "Here we can again approximate $P(w_1 \\dots w_n)$ with N-gram probabilities, as above.\n",
    "Note: $(x_1\\cdots x_n)^{-\\frac{1}{n}}$ is the **geometric mean** of the numbers $x_1,\\dots,x_n$. It is like the (regular) artithmetic mean, but with **products** instead of **sums**. The geometric mean is a more natural choice in the case of *PP* because behind $P(w_1\\dots w_n)$ is a series of $n$ products ([more here](https://en.wikipedia.org/wiki/Geometric_mean)).\n",
    "\n",
    "\n",
    "\n",
    "Compute the perplexity of the training sentences from excercise 2.1. What big difference between the **probabilities** of the sentences and the **perplexities** of the sentences do you notice?"
   ]
  },
  {
   "cell_type": "code",
   "execution_count": 50,
   "metadata": {},
   "outputs": [
    {
     "name": "stdout",
     "output_type": "stream",
     "text": [
      "unsmoothed PP for 1st sentence: 16.711421277462406 \n",
      " smoothed PP for 1st sentence: 4111.852515382658 \n",
      "\n",
      "unsmoothed PP for 2nd sentence: 8.598992305819477 \n",
      " smoothed PP for 2nd sentence: 10827.073369406036 \n",
      "\n"
     ]
    }
   ],
   "source": [
    "print(\"unsmoothed PP for 1st sentence:\",normal_PP1,'\\n',\"smoothed PP for 1st sentence:\",smoothed_PP1,'\\n')\n",
    "print(\"unsmoothed PP for 2nd sentence:\",normal_PP2,'\\n',\"smoothed PP for 2nd sentence:\",smoothed_PP2,'\\n')"
   ]
  },
  {
   "cell_type": "markdown",
   "metadata": {},
   "source": [
    "**Perplexities**\n",
    "\n",
    "unsmoothed PP for 1st sentence: 16.711421277462406 \n",
    "\n",
    "smoothed PP for 1st sentence: 4111.852515382658 \n",
    "\n",
    "\n",
    "unsmoothed PP for 2nd sentence: 8.598992305819477 \n",
    "\n",
    "smoothed PP for 2nd sentence: 10827.073369406036 \n",
    "\n",
    "\n",
    "**Probabilities**\n",
    "\n",
    "unsmoothed probability for 1st sentence: 5.886621677857048e-13 \n",
    "\n",
    "smoothed probability for 1st sentence: 7.238102197929912e-37 \n",
    "\n",
    "\n",
    "Unsmoothed probability of the second sentence is: 1.6934912147549186e-32 \n",
    "\n",
    "smoothed probability for 1st sentence: 6.708466998183451e-138 \n",
    "\n"
   ]
  },
  {
   "cell_type": "markdown",
   "metadata": {},
   "source": [
    "**Interpretation**\n",
    "\n",
    "The probability estimate from the smoothed language model for the first sentence is higher than the probability for the smoothed language model of the second sentence. It can be observed that the smoothed perplexity of the first sentence is lower than for the second sentence. This shows that with a higher probability, the perplexity will be lower. Hence, our smoothed language model is better at predicting the first sentence than the second one. However, for the unsmoothed language model this can not be observed. \n",
    "\n",
    " In general, perplexity measures how well a probability model predicts a sample sentence. Perplexity is the inverse probability of the two sentences normalized by the number of words. Thus, this reverse relationship can be observed when we are using a smoothed langauge model."
   ]
  },
  {
   "cell_type": "markdown",
   "metadata": {},
   "source": [
    "# That's it!\n",
    "\n",
    "Congratulations, you have made it to the end of the tutorial. Here we will recap the gist of this notebook. \n",
    "\n",
    "**Make sure all your cells can be executed and all your answers are there. Then, read on if you're interested!**\n",
    "\n",
    "-----\n",
    "\n",
    "By now you should have a solid feeling for the problem of **sparsity in language data**; there's just never enough data. For the task of language modelling, we saw that sparsity is a serious challenge. \n",
    "\n",
    "It would be great to be able to model $p(w_n|w_1 \\dots w_{n-1})$ for unlimited $n$: the larger $n$ the better our language model should become at capturing the long-range dependencies between words that characterize actual human sentences, and the more probability our model will asign to such sentences as opposed to sentences that are word-soup. But in the N-gram approach, increasing $n$ will quickly kill all generalizing abilities of the model: the model will start to asign probabilities only to sentences it has seen in the training data.\n",
    "\n",
    "So, where to go from here? Here are three directions that we could head in.\n",
    "\n",
    "### Smoothing\n",
    "\n",
    "We have seen one example of smoothing in this lab: add-k smoothing. This is an easy method, both conceptually and implementation-wise. But the results are not great, and the effects it has on the distributions can be extreme.\n",
    "\n",
    "A much more sophisticated method of smoothing is so-called **Kneser-Ney smoothing**. The method is described in detail in section 4.5 of J&M (3rd edition). This is one of the best performing N-gram smoothing methods, and up to a few years ago a popular implementation of it called [KenLM](https://kheafield.com/code/kenlm/) gave state of the art results.\n",
    "\n",
    "### From words to characters\n",
    "\n",
    "In this lab we have considered language modeling as the task of predicting a **word** $w_n$ based on a history of **words** $w_1\\cdots w_n$. What if instead we let our basic units of modelling be **characters**? The task then becomes to model $p(c_k\\mid c_{k-N-1}\\dots c_{k-1})$ where each $c_i$ is now an ASCII character instead of an entire word.\n",
    "\n",
    "Suddenly sparsity of data is no longer a problem! The set of characters to use is tiny (< 100) compared to even a small-sized vocabulary as today. Have a look at this very illustrative notebook written by Yoav Golberg to see such a method in action: [The unreasonable effectiveness of Character-level Language Models](http://nbviewer.jupyter.org/gist/yoavg/d76121dfde2618422139).\n",
    "\n",
    "(So what is the downside?)\n",
    "\n",
    "\n",
    "### Neural language models\n",
    "\n",
    "The above notebook was actually written as a response to this blog post by Andrej Karpathy: [The Unreasonable Effectiveness of Recurrent Neural Networks](http://karpathy.github.io/2015/05/21/rnn-effectiveness/). Go ahead and read it if you haven't already: it is a superb introduction to the topic of Recurrent Neural Networks.\n",
    "\n",
    "Neural language models solve the problem of data sparsity in a different manner. Instead of estimating the probabilities $p(w_k\\mid w_{k-N-1}\\dots w_{k-1})$ by counting occurences in the data, they use a neural network $f_{\\theta}$ parametrized by parameters $\\theta$ to predict this probability. The parameters $\\theta$ are learned through optimization. \n",
    "\n",
    "The simplest approach goes like this: each word in the history $w_{k-N-1}\\dots w_{k-1}$ is embedded separately giving  vectors $e_{k-N-1}\\dots e_{k-1}$ and then concatenated into one long vectors $[e_{k-N-1};\\dots ;e_{k-1}]$. The network then uses this history vector to predict a probability distribution over words $w$ in the vocabulary $V$:\n",
    "\n",
    "$$p(w \\mid w_{k-N-1}\\dots w_{k-1}) = f_{\\theta}([e_{k-N-1};\\dots;e_{k-1}]).$$\n",
    "\n",
    "(In order to produce legitimate probabilities the final layer of such a network will be for example a $softmax$.)\n",
    "\n",
    "This provides a solution to the sparsity problem by having the network let the individual embeddings of the words in the history interact through its non-linear transforamtion. We are letting the network figure out the smoothing itself!\n",
    "\n",
    "RNNs are a clever extension of this idea, where a hidden state vector $h$ is re-used and updated at each step $k$ in order to store the information of the entire history up to step $k-1$. That is, an RNN actually does away with the N-order approximation; it tries to model the full conditional directly! That means that\n",
    "\n",
    "$$p(w \\mid w_1\\dots w_{k-1}) \\approx RNN_{\\theta}([e_{k-1};h_{k-1}])$$\n",
    "\n",
    "where the hidden state $h_{k-1}$ is a compression of the *entire history* $w_1\\dots w_{k-1}$.\n",
    "\n",
    "Another great place to learn about RNNs, their problems, and solutions to those, is on the blog of [Christopher Olah](http://colah.github.io/posts/2015-08-Understanding-LSTMs/). The project on language modelling will involve learning more about these methods. \n",
    "\n",
    "-----------\n",
    "(And now, it's time to read the classic essay by Eugene Wigner that gave both of the posts their title: [The Unreasonable Effectiveness of Mathematics in the Natural Sciences](http://www.dartmouth.edu/~matc/MathDrama/reading/Wigner.html))"
   ]
  }
 ],
 "metadata": {
  "anaconda-cloud": {},
  "kernelspec": {
   "display_name": "Python 3",
   "language": "python",
   "name": "python3"
  },
  "language_info": {
   "codemirror_mode": {
    "name": "ipython",
    "version": 3
   },
   "file_extension": ".py",
   "mimetype": "text/x-python",
   "name": "python",
   "nbconvert_exporter": "python",
   "pygments_lexer": "ipython3",
   "version": "3.6.1"
  }
 },
 "nbformat": 4,
 "nbformat_minor": 1
}
